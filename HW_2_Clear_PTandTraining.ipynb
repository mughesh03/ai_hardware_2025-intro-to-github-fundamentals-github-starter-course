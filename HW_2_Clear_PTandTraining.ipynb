{
  "nbformat": 4,
  "nbformat_minor": 0,
  "metadata": {
    "colab": {
      "provenance": [],
      "gpuType": "T4",
      "include_colab_link": true
    },
    "kernelspec": {
      "name": "python3",
      "display_name": "Python 3"
    },
    "language_info": {
      "name": "python"
    },
    "accelerator": "GPU"
  },
  "cells": [
    {
      "cell_type": "markdown",
      "metadata": {
        "id": "view-in-github",
        "colab_type": "text"
      },
      "source": [
        "<a href=\"https://colab.research.google.com/github/mughesh03/ai_hardware_2025-intro-to-github-fundamentals-github-starter-course/blob/main/HW_2_Clear_PTandTraining.ipynb\" target=\"_parent\"><img src=\"https://colab.research.google.com/assets/colab-badge.svg\" alt=\"Open In Colab\"/></a>"
      ]
    },
    {
      "cell_type": "markdown",
      "source": [
        "# PyTorch and Intro to Training"
      ],
      "metadata": {
        "id": "dcUHnV4tr3T-"
      }
    },
    {
      "cell_type": "markdown",
      "source": [
        "## Start by importing necessary packages\n",
        "We will begin by importing necessary libraries for this notebook. Run the cell below to do so."
      ],
      "metadata": {
        "id": "qFR0_os7r97e"
      }
    },
    {
      "cell_type": "code",
      "source": [
        "!pip install thop\n",
        "import math\n",
        "import numpy as np\n",
        "import torch\n",
        "import torch.nn as nn\n",
        "import torch.optim as optim\n",
        "from torchvision import datasets, transforms\n",
        "import thop\n",
        "import matplotlib.pyplot as plt\n",
        "from tqdm import tqdm\n",
        "import time\n"
      ],
      "metadata": {
        "id": "o-K6uCK8sAtN",
        "colab": {
          "base_uri": "https://localhost:8080/"
        },
        "outputId": "5a360c18-331f-4fcc-8d95-4de23d92ebf3"
      },
      "execution_count": 1,
      "outputs": [
        {
          "output_type": "stream",
          "name": "stdout",
          "text": [
            "Collecting thop\n",
            "  Downloading thop-0.1.1.post2209072238-py3-none-any.whl.metadata (2.7 kB)\n",
            "Requirement already satisfied: torch in /usr/local/lib/python3.12/dist-packages (from thop) (2.8.0+cu126)\n",
            "Requirement already satisfied: filelock in /usr/local/lib/python3.12/dist-packages (from torch->thop) (3.19.1)\n",
            "Requirement already satisfied: typing-extensions>=4.10.0 in /usr/local/lib/python3.12/dist-packages (from torch->thop) (4.15.0)\n",
            "Requirement already satisfied: setuptools in /usr/local/lib/python3.12/dist-packages (from torch->thop) (75.2.0)\n",
            "Requirement already satisfied: sympy>=1.13.3 in /usr/local/lib/python3.12/dist-packages (from torch->thop) (1.13.3)\n",
            "Requirement already satisfied: networkx in /usr/local/lib/python3.12/dist-packages (from torch->thop) (3.5)\n",
            "Requirement already satisfied: jinja2 in /usr/local/lib/python3.12/dist-packages (from torch->thop) (3.1.6)\n",
            "Requirement already satisfied: fsspec in /usr/local/lib/python3.12/dist-packages (from torch->thop) (2025.3.0)\n",
            "Requirement already satisfied: nvidia-cuda-nvrtc-cu12==12.6.77 in /usr/local/lib/python3.12/dist-packages (from torch->thop) (12.6.77)\n",
            "Requirement already satisfied: nvidia-cuda-runtime-cu12==12.6.77 in /usr/local/lib/python3.12/dist-packages (from torch->thop) (12.6.77)\n",
            "Requirement already satisfied: nvidia-cuda-cupti-cu12==12.6.80 in /usr/local/lib/python3.12/dist-packages (from torch->thop) (12.6.80)\n",
            "Requirement already satisfied: nvidia-cudnn-cu12==9.10.2.21 in /usr/local/lib/python3.12/dist-packages (from torch->thop) (9.10.2.21)\n",
            "Requirement already satisfied: nvidia-cublas-cu12==12.6.4.1 in /usr/local/lib/python3.12/dist-packages (from torch->thop) (12.6.4.1)\n",
            "Requirement already satisfied: nvidia-cufft-cu12==11.3.0.4 in /usr/local/lib/python3.12/dist-packages (from torch->thop) (11.3.0.4)\n",
            "Requirement already satisfied: nvidia-curand-cu12==10.3.7.77 in /usr/local/lib/python3.12/dist-packages (from torch->thop) (10.3.7.77)\n",
            "Requirement already satisfied: nvidia-cusolver-cu12==11.7.1.2 in /usr/local/lib/python3.12/dist-packages (from torch->thop) (11.7.1.2)\n",
            "Requirement already satisfied: nvidia-cusparse-cu12==12.5.4.2 in /usr/local/lib/python3.12/dist-packages (from torch->thop) (12.5.4.2)\n",
            "Requirement already satisfied: nvidia-cusparselt-cu12==0.7.1 in /usr/local/lib/python3.12/dist-packages (from torch->thop) (0.7.1)\n",
            "Requirement already satisfied: nvidia-nccl-cu12==2.27.3 in /usr/local/lib/python3.12/dist-packages (from torch->thop) (2.27.3)\n",
            "Requirement already satisfied: nvidia-nvtx-cu12==12.6.77 in /usr/local/lib/python3.12/dist-packages (from torch->thop) (12.6.77)\n",
            "Requirement already satisfied: nvidia-nvjitlink-cu12==12.6.85 in /usr/local/lib/python3.12/dist-packages (from torch->thop) (12.6.85)\n",
            "Requirement already satisfied: nvidia-cufile-cu12==1.11.1.6 in /usr/local/lib/python3.12/dist-packages (from torch->thop) (1.11.1.6)\n",
            "Requirement already satisfied: triton==3.4.0 in /usr/local/lib/python3.12/dist-packages (from torch->thop) (3.4.0)\n",
            "Requirement already satisfied: mpmath<1.4,>=1.1.0 in /usr/local/lib/python3.12/dist-packages (from sympy>=1.13.3->torch->thop) (1.3.0)\n",
            "Requirement already satisfied: MarkupSafe>=2.0 in /usr/local/lib/python3.12/dist-packages (from jinja2->torch->thop) (3.0.2)\n",
            "Downloading thop-0.1.1.post2209072238-py3-none-any.whl (15 kB)\n",
            "Installing collected packages: thop\n",
            "Successfully installed thop-0.1.1.post2209072238\n"
          ]
        }
      ]
    },
    {
      "cell_type": "code",
      "source": [],
      "metadata": {
        "id": "bW-BZIisdakj"
      },
      "execution_count": 1,
      "outputs": []
    },
    {
      "cell_type": "markdown",
      "source": [
        "## Checking the torch version and CUDA access\n",
        "Let's start off by checking the current torch version, and whether we have CUDA availablity."
      ],
      "metadata": {
        "id": "zDPegMqisFcl"
      }
    },
    {
      "cell_type": "code",
      "source": [
        "print(\"toch is using version:\", torch.__version__, \"with CUDA=\", torch.cuda.is_available())"
      ],
      "metadata": {
        "colab": {
          "base_uri": "https://localhost:8080/"
        },
        "id": "tdfzsLrPsLyl",
        "outputId": "dd1a1383-36e1-40bd-d5bb-ebe3c0b05776"
      },
      "execution_count": 2,
      "outputs": [
        {
          "output_type": "stream",
          "name": "stdout",
          "text": [
            "toch is using version: 2.8.0+cu126 with CUDA= True\n"
          ]
        }
      ]
    },
    {
      "cell_type": "markdown",
      "source": [
        "By default, we should see CUDA= False, meaning that the Colab instances does not have access to a GPU. To remedy this, click the drop-down arrow next to resources, and select \"Change Runtime Type\", then select \"T4 GPU\"\n",
        "Re-run the import cell, and the CUDA version / check above. It should now CUDA= True\n",
        "\n",
        "We won't be using the GPU just yet, but this prepares the instance for when we do."
      ],
      "metadata": {
        "id": "kWQIH1ybssV0"
      }
    },
    {
      "cell_type": "markdown",
      "source": [
        "## A Brief Introduction to PyTorch\n",
        "\n",
        "PyTorch, or torch, is a machine learning framework developed my Facebook AI Research, which is competes with TensorFlow, JAX, and Caffe.\n",
        "\n",
        "Roughly speaking, these frameworks can be split into dynamic and static defintion frameworks.\n",
        "\n",
        "**Static Network Definition:** The architecture and computation flow are defined simultaneously. The order and manner in which data flows through the layers are fixed upon definition. These frameworks also tend to declare parameter shapes implicitly via the compute graph. This is typical of TensorFlow and JAX.\n",
        "\n",
        "**Dynamic Network Definition:** The architecture (layers/modules) is defined independently of the computation flow, often during the object's initialization. This allows for dynamic computation graphs where the flow of data can change during runtime based on conditions. Since the network exists independent of the compute graph, the parameter shapes must be declared explitly. PyTorch follows this approach.\n",
        "\n",
        "All of the ML frameworks support automatic differentiation, which is necessary to train a model (i.e. perform back propogation).\n",
        "\n",
        "Let's consider a typical pytorch module. These will inherit from the torch.nn.Module class, which provides many built in functions such as a wrapper for `__call__`, operations to move the module between devices (e.g. `cuda()`, `cpu()`), data-type conversion (e.g. `half()`, `float()`), and parameter and child management (e.g. `state_dict()`, `parameters()`)."
      ],
      "metadata": {
        "id": "ekG8rSD4tbpS"
      }
    },
    {
      "cell_type": "code",
      "source": [
        "# inherit from torch.nn.Module\n",
        "class MyModule(nn.Module):\n",
        "  # constructor called upon creation\n",
        "  def __init__(self):\n",
        "    # the module has to initialize the parent first, which is what sets up the wrapper behavior\n",
        "    super().__init__()\n",
        "\n",
        "    # we can add sub-modules and parameters by assigning them to self\n",
        "    self.my_param = nn.Parameter(torch.zeros(4,8)) # this is how you define a raw parameter of shape 4x5\n",
        "    self.my_sub_module = nn.Linear(8,12)       # this is how you define a linear layer (tensorflow calls them Dense) of shape 8x12\n",
        "\n",
        "    # we can also add lists of modules, for example, the sequential layer\n",
        "    self.net = nn.Sequential(  # this layer type takes in a collection of modules rather than a list\n",
        "        nn.Linear(4,4),\n",
        "        nn.Linear(4,8),\n",
        "        nn.Linear(8,12)\n",
        "    )\n",
        "\n",
        "    # the above when calling self.net(x), will execute each module in the order they appear in a list\n",
        "    # it would be equivelent to x = self.net[2](self.net[1](self.net[0](x)))\n",
        "\n",
        "    # you can also create a list that doesn't execute\n",
        "    self.net_list = nn.ModuleList([\n",
        "        nn.Linear(7,7),\n",
        "        nn.Linear(7,9),\n",
        "        nn.Linear(9,14)\n",
        "    ])\n",
        "\n",
        "    # sometimes you will also see constant variables added to the module post init\n",
        "    foo = torch.Tensor([4])\n",
        "    self.register_buffer('foo', foo) # buffers allow .to(device, type) to apply\n",
        "\n",
        "  # let's define a forward function, which gets executed when calling the module, and defines the forward compute graph\n",
        "  def forward(self, x):\n",
        "\n",
        "    # if x is of shape Bx4\n",
        "    h1 =  x @ self.my_param # tensor-tensor multiplication uses the @ symbol\n",
        "    # then h1 is now shape Bx8, because my_param is 4x8... 2x4 * 4x8 = 2x8\n",
        "\n",
        "    h1 = self.my_sub_module(h1) # you execute a sub-module by calling it\n",
        "    # now, h1 is of shape Bx12, because my_sub_module was a 8x12 matrix\n",
        "\n",
        "    h2 = self.net(x)\n",
        "    # similarly, h2 is of shape Bx12, because that's the output of the sequence\n",
        "    # Bx4 -(4x4)-> Bx4 -(4x8)-> Bx8 -(8x12)-> Bx12\n",
        "\n",
        "    # since h1 and h2 are the same shape, they can be added together element-wise\n",
        "    return h1 + h2\n"
      ],
      "metadata": {
        "id": "lFxVVeLTsX7e"
      },
      "execution_count": 3,
      "outputs": []
    },
    {
      "cell_type": "markdown",
      "source": [
        "Then we can instantiate the module and perform a forward pass by calling it."
      ],
      "metadata": {
        "id": "gGVD-Rfy3YXF"
      }
    },
    {
      "cell_type": "code",
      "source": [
        "# create the module\n",
        "module = MyModule()\n",
        "\n",
        "# we can print the module to get a high-level summary of it\n",
        "print(\"=== printing the module ===\")\n",
        "print(module)\n",
        "print()\n",
        "# notice that the sub-module name is in parenthesis, and so are the list indicies\n",
        "\n",
        "# let's view the shape of one of the weight tensors\n",
        "print(\"my_sub_module weight tensor shape=\", module.my_sub_module.weight.shape)\n",
        "# the above works because nn.Linear has a member called .weight and .bias\n",
        "# to view the shape of my_param, you would use module.my_param\n",
        "# and to view the shape of the 2nd elment in net_list, you would use module.net_list[1].weight\n",
        "\n",
        "# we can iterate through all of the parameters via the state dict\n",
        "print()\n",
        "print(\"=== Listing parameters from the state_dict ===\")\n",
        "for key,value in module.state_dict().items():\n",
        "  print(f\"{key}: {value.shape}\")\n"
      ],
      "metadata": {
        "colab": {
          "base_uri": "https://localhost:8080/"
        },
        "id": "K5SduF4H194T",
        "outputId": "16e766e0-ed06-4227-ae60-e984ab4dd751"
      },
      "execution_count": 4,
      "outputs": [
        {
          "output_type": "stream",
          "name": "stdout",
          "text": [
            "=== printing the module ===\n",
            "MyModule(\n",
            "  (my_sub_module): Linear(in_features=8, out_features=12, bias=True)\n",
            "  (net): Sequential(\n",
            "    (0): Linear(in_features=4, out_features=4, bias=True)\n",
            "    (1): Linear(in_features=4, out_features=8, bias=True)\n",
            "    (2): Linear(in_features=8, out_features=12, bias=True)\n",
            "  )\n",
            "  (net_list): ModuleList(\n",
            "    (0): Linear(in_features=7, out_features=7, bias=True)\n",
            "    (1): Linear(in_features=7, out_features=9, bias=True)\n",
            "    (2): Linear(in_features=9, out_features=14, bias=True)\n",
            "  )\n",
            ")\n",
            "\n",
            "my_sub_module weight tensor shape= torch.Size([12, 8])\n",
            "\n",
            "=== Listing parameters from the state_dict ===\n",
            "my_param: torch.Size([4, 8])\n",
            "foo: torch.Size([1])\n",
            "my_sub_module.weight: torch.Size([12, 8])\n",
            "my_sub_module.bias: torch.Size([12])\n",
            "net.0.weight: torch.Size([4, 4])\n",
            "net.0.bias: torch.Size([4])\n",
            "net.1.weight: torch.Size([8, 4])\n",
            "net.1.bias: torch.Size([8])\n",
            "net.2.weight: torch.Size([12, 8])\n",
            "net.2.bias: torch.Size([12])\n",
            "net_list.0.weight: torch.Size([7, 7])\n",
            "net_list.0.bias: torch.Size([7])\n",
            "net_list.1.weight: torch.Size([9, 7])\n",
            "net_list.1.bias: torch.Size([9])\n",
            "net_list.2.weight: torch.Size([14, 9])\n",
            "net_list.2.bias: torch.Size([14])\n"
          ]
        }
      ]
    },
    {
      "cell_type": "code",
      "source": [
        "# we can perform a forward pass by first creating a tensor to send through\n",
        "x = torch.zeros(2,4)\n",
        "# then we call the module (this invokes MyModule.forward() )\n",
        "y = module(x)\n",
        "\n",
        "# then we can print the result and shape\n",
        "print(y, y.shape)"
      ],
      "metadata": {
        "colab": {
          "base_uri": "https://localhost:8080/"
        },
        "id": "RZquyefY8r7W",
        "outputId": "a0f48a43-c2d9-4555-cc31-4ebec4ad76f5"
      },
      "execution_count": 5,
      "outputs": [
        {
          "output_type": "stream",
          "name": "stdout",
          "text": [
            "tensor([[ 0.1026,  0.1604,  0.1252,  0.1406,  0.0280, -0.6046,  0.2268,  0.0095,\n",
            "          0.3026, -0.0939, -0.1174, -0.2765],\n",
            "        [ 0.1026,  0.1604,  0.1252,  0.1406,  0.0280, -0.6046,  0.2268,  0.0095,\n",
            "          0.3026, -0.0939, -0.1174, -0.2765]], grad_fn=<AddBackward0>) torch.Size([2, 12])\n"
          ]
        }
      ]
    },
    {
      "cell_type": "markdown",
      "source": [
        "A few things to notice.\n",
        "\n",
        "\n",
        "1.   `x` was created with the shape 2x4, and in the forward pass, it gets manipulated into a 2x12 tensor. This the last dimension is explicit, while the first is called the batch dimmension, and only exists on data (a.k.a. activations). The output shape can be seen in the print statement from y.shape\n",
        "2.   You can view the shape of a tensor by using `.shape`, this is a very helpful trick for debugging tensor shape errors\n",
        "3.   In the output, there's a `grad_fn` component, this is the hook created by the forward trace to be used in back-propogation via automatic differentiation. The function name is `AddBackward`, because the last operation performed was `h1+h2`.\n",
        "\n",
        "We might not always want to trace the compute graph though, such as during inference. In such cases, we can use the `torch.no_grad()` context manager.\n"
      ],
      "metadata": {
        "id": "Iifk09KA3m7V"
      }
    },
    {
      "cell_type": "code",
      "source": [
        "# we can perform a forward pass by first creating a tensor to send through\n",
        "x = torch.zeros(2,4)\n",
        "# then we call the module (this invokes MyModule.forward() )\n",
        "with torch.no_grad():\n",
        "  y = module(x)\n",
        "\n",
        "# then we can print the result and shape\n",
        "print(y, y.shape)\n",
        "# notice how the grad_fn is no longer part of the output tensor, that's because not_grad() disables the graph generation"
      ],
      "metadata": {
        "colab": {
          "base_uri": "https://localhost:8080/"
        },
        "id": "2AkENjSg-NDe",
        "outputId": "df04d67c-48fe-4437-fd60-31c2dc72a43c"
      },
      "execution_count": 6,
      "outputs": [
        {
          "output_type": "stream",
          "name": "stdout",
          "text": [
            "tensor([[ 0.1026,  0.1604,  0.1252,  0.1406,  0.0280, -0.6046,  0.2268,  0.0095,\n",
            "          0.3026, -0.0939, -0.1174, -0.2765],\n",
            "        [ 0.1026,  0.1604,  0.1252,  0.1406,  0.0280, -0.6046,  0.2268,  0.0095,\n",
            "          0.3026, -0.0939, -0.1174, -0.2765]]) torch.Size([2, 12])\n"
          ]
        }
      ]
    },
    {
      "cell_type": "markdown",
      "source": [
        "Aside from passing a tensor through a model with the `no_grad()` context, we can also detach a tensor from the compute graph by calling `.detach()`. This will effectively make a copy of the original tensor, which allows it to be converted to numpy and visualized with matplotlib.\n",
        "\n",
        "**Note:** Tensors with a `grad_fn` property cannot be plotted and must first be detached."
      ],
      "metadata": {
        "id": "3kHh2aBOqxkI"
      }
    },
    {
      "cell_type": "markdown",
      "source": [
        "## Multi-Layer-Perceptron (MLP) Prediction of MNIST\n",
        "\n",
        "With some basics out of the way, let's create a MLP for training MNIST.\n",
        "We can start by defining a simple torch model."
      ],
      "metadata": {
        "id": "t08BDXVur1z2"
      }
    },
    {
      "cell_type": "code",
      "source": [
        "# Define the MLP model\n",
        "class MLP(nn.Module):\n",
        "    # define the constructor for the network\n",
        "    def __init__(self):\n",
        "        super().__init__()\n",
        "        # the input projection layer - projects into d=128\n",
        "        self.fc1 = nn.Linear(28*28, 128)\n",
        "        # the first hidden layer - compresses into d=64\n",
        "        self.fc2 = nn.Linear(128, 64)\n",
        "        # the final output layer - splits into 10 classes (digits 0-9)\n",
        "        self.fc3 = nn.Linear(64, 10)\n",
        "\n",
        "    # define the forward pass compute graph\n",
        "    def forward(self, x):\n",
        "        # x is of shape BxHxW\n",
        "\n",
        "        # we first need to unroll the 2D image using view\n",
        "        # we set the first dim to be -1 meanining \"everything else\", the reason being that x is of shape BxHxW, where B is the batch dim\n",
        "        # we want to maintain different tensors for each training sample in the batch, which means the output should be of shape BxF where F is the feature dim\n",
        "        x = x.view(-1, 28*28)\n",
        "        # x is of shape Bx784\n",
        "\n",
        "        # project-in and apply a non-linearity (ReLU activation function)\n",
        "        x = torch.relu(self.fc1(x))\n",
        "        # x is of shape Bx128\n",
        "\n",
        "        # middle-layer and apply a non-linearity (ReLU activation function)\n",
        "        x = torch.relu(self.fc2(x))\n",
        "        # x is of shape Bx64\n",
        "\n",
        "        # project out into the 10 classes\n",
        "        x = self.fc3(x)\n",
        "        # x is of shape Bx10\n",
        "        return x"
      ],
      "metadata": {
        "id": "Ud7V-wA0rPIp"
      },
      "execution_count": 7,
      "outputs": []
    },
    {
      "cell_type": "markdown",
      "source": [
        "Before we can begin training, we have to do a little boiler-plate to load the dataset. From the previous part, you saw how a hosted dataset can be loaded with TensorFlow. With pytorch it's a little more complicated, as we need to manually condition the input data."
      ],
      "metadata": {
        "id": "CyyFDqlbusSO"
      }
    },
    {
      "cell_type": "code",
      "source": [
        "# define a transformation for the input images. This uses torchvision.transforms, and .Compose will act similarly to nn.Sequential\n",
        "transform = transforms.Compose([\n",
        "    transforms.ToTensor(), # first convert to a torch tensor\n",
        "    transforms.Normalize((0.1307,), (0.3081,)) # then normalize the input\n",
        "])\n",
        "\n",
        "# let's download the train and test datasets, applying the above transform - this will get saved locally into ./data, which is in the Colab instance\n",
        "train_dataset = datasets.MNIST('./data', train=True, download=True, transform=transform)\n",
        "test_dataset = datasets.MNIST('./data', train=False, transform=transform)\n",
        "\n",
        "# we need to set the mini-batch (commonly referred to as \"batch\"), for now we can use 64\n",
        "batch_size = 64\n",
        "\n",
        "# then we need to create a dataloader for the train dataset, and we will also create one for the test dataset to evaluate performance\n",
        "# additionally, we will set the batch size in the dataloader\n",
        "train_loader = torch.utils.data.DataLoader(train_dataset, batch_size=batch_size, shuffle=True)\n",
        "test_loader = torch.utils.data.DataLoader(test_dataset, batch_size=batch_size, shuffle=False)\n",
        "\n",
        "# the torch dataloaders allow us to access the __getitem__ method, which returns a tuple of (data, label)\n",
        "# additionally, the dataloader will pre-colate the training samples into the given batch_size\n"
      ],
      "metadata": {
        "id": "nd_dVCuUuqY2",
        "colab": {
          "base_uri": "https://localhost:8080/"
        },
        "outputId": "85881dff-2c29-40a5-cfba-56108dbc4389"
      },
      "execution_count": 8,
      "outputs": [
        {
          "output_type": "stream",
          "name": "stderr",
          "text": [
            "100%|██████████| 9.91M/9.91M [00:02<00:00, 4.73MB/s]\n",
            "100%|██████████| 28.9k/28.9k [00:00<00:00, 130kB/s]\n",
            "100%|██████████| 1.65M/1.65M [00:01<00:00, 1.24MB/s]\n",
            "100%|██████████| 4.54k/4.54k [00:00<00:00, 9.10MB/s]\n"
          ]
        }
      ]
    },
    {
      "cell_type": "markdown",
      "source": [
        "Inspect the first element of the test_loader, and verify both the tensor shapes and data types. You can check the data-type with `.dtype`\n",
        "\n",
        "**Question 1**"
      ],
      "metadata": {
        "id": "lWtGZmUB5XcA"
      }
    },
    {
      "cell_type": "code",
      "source": [
        "# Get the first item\n",
        "first_item = next(iter(test_loader))\n",
        "\n",
        "# print out the element shapes, dtype, and identify which is the training sample and which is the training label - MNIST is a supervised learning task\n",
        "images, labels = first_item\n",
        "\n",
        "print(\"Images shape:\", images.shape)\n",
        "print(\"Images dtype:\", images.dtype)\n",
        "print(\"Labels shape:\", labels.shape)\n",
        "print(\"Labels dtype:\", labels.dtype)"
      ],
      "metadata": {
        "id": "PLB89iKQ5XBI",
        "colab": {
          "base_uri": "https://localhost:8080/"
        },
        "outputId": "87e95fa1-c2b2-4539-c63b-463beaa16897"
      },
      "execution_count": 9,
      "outputs": [
        {
          "output_type": "stream",
          "name": "stdout",
          "text": [
            "Images shape: torch.Size([64, 1, 28, 28])\n",
            "Images dtype: torch.float32\n",
            "Labels shape: torch.Size([64])\n",
            "Labels dtype: torch.int64\n"
          ]
        }
      ]
    },
    {
      "cell_type": "markdown",
      "source": [
        "Now that we have the dataset loaded, we can instantiate the MLP model, the loss (or criteron function), and the optimizer for training."
      ],
      "metadata": {
        "id": "XW9dKZMl3050"
      }
    },
    {
      "cell_type": "code",
      "source": [
        "# create the model\n",
        "model = MLP()\n",
        "\n",
        "# we can print the model as well, but notice how the activation functions are missing. This is because they were called in the forward pass and not declared in the constructor\n",
        "print(model)\n",
        "\n",
        "# we can also count the model parameters\n",
        "param_count = sum([p.numel() for p in model.parameters()])\n",
        "print(f\"Model has {param_count:,} trainable parameters\")\n",
        "\n",
        "# for a critereon (loss) funciton, we will use Cross-Entropy Loss. This is the most common critereon used for multi-class prediction, and is also used by tokenized transformer models\n",
        "# it takes in an un-normalized probability distribution (i.e. without softmax) over N classes (in our case, 10 classes with MNIST). This distribution is then compared to an integer label\n",
        "# which is < N. For MNIST, the prediction might be [-0.0056, -0.2044,  1.1726,  0.0859,  1.8443, -0.9627,  0.9785, -1.0752, 1.1376,  1.8220], with the label 3.\n",
        "# Cross-entropy can be thought of as finding the difference between what the predicted distribution and the one-hot distribution\n",
        "\n",
        "criterion = nn.CrossEntropyLoss()\n",
        "\n",
        "# then we can intantiate the optimizer. We will use Stochastic Gradient Descent (SGD), and can set the learning rate to 0.1 with a momentum factor of 0.5\n",
        "# the first input to the optimizer is the list of model parameters, which is obtained by calling .parameters() on the model object\n",
        "optimizer = optim.SGD(model.parameters(), lr=0.01, momentum=0.5)"
      ],
      "metadata": {
        "colab": {
          "base_uri": "https://localhost:8080/"
        },
        "id": "7ZC7VVqm5ylL",
        "outputId": "4c13850d-1703-4903-fda6-b1843c1a9402"
      },
      "execution_count": 10,
      "outputs": [
        {
          "output_type": "stream",
          "name": "stdout",
          "text": [
            "MLP(\n",
            "  (fc1): Linear(in_features=784, out_features=128, bias=True)\n",
            "  (fc2): Linear(in_features=128, out_features=64, bias=True)\n",
            "  (fc3): Linear(in_features=64, out_features=10, bias=True)\n",
            ")\n",
            "Model has 109,386 trainable parameters\n"
          ]
        }
      ]
    },
    {
      "cell_type": "markdown",
      "source": [
        "Finally, we can define a training, and test loop"
      ],
      "metadata": {
        "id": "xsDmDIdt-ixB"
      }
    },
    {
      "cell_type": "code",
      "source": [
        "# create an array to log the loss and accuracy\n",
        "train_losses = []\n",
        "train_steps = []\n",
        "test_steps = []\n",
        "test_losses = []\n",
        "test_accuracy = []\n",
        "current_step = 0  # Start with global step 0\n",
        "current_epoch = 0 # Start with epoch 0"
      ],
      "metadata": {
        "id": "NxCih-WJJKXk"
      },
      "execution_count": 11,
      "outputs": []
    },
    {
      "cell_type": "code",
      "source": [
        "# declare the train function\n",
        "def cpu_train(epoch, train_losses, steps, current_step):\n",
        "\n",
        "    # set the model in training mode - this doesn't do anything for us right now, but it is good practiced and needed with other layers such as batch norm and dropout\n",
        "    model.train()\n",
        "\n",
        "    # Create tqdm progress bar to help keep track of the training progress\n",
        "    pbar = tqdm(enumerate(train_loader), total=len(train_loader))\n",
        "\n",
        "    # loop over the dataset. Recall what comes out of the data loader, and then by wrapping that with enumerate() we get an index into the iterator list which we will call batch_idx\n",
        "    for batch_idx, (data, target) in pbar:\n",
        "\n",
        "        # during training, the first step is to zero all of the gradients through the optimizer\n",
        "        # this resets the state so that we can begin back propogation with the updated parameters\n",
        "        optimizer.zero_grad()\n",
        "\n",
        "        # then we apply a forward pass, which includes evaluating the loss (critereon)\n",
        "        output = model(data)\n",
        "        loss = criterion(output, target)\n",
        "\n",
        "        # given that we want to minimize the loss, we call .backward() on the result, which invokes the grad_fn property\n",
        "        loss.backward()\n",
        "\n",
        "        # the backward step will automatically differentiate the model and apply a gradient property to each of the parameters in the network\n",
        "        # so then all we have to do is call optimizer.step() to apply the gradients to the current parameters\n",
        "        optimizer.step()\n",
        "\n",
        "        # increment the step count\n",
        "        current_step += 1\n",
        "\n",
        "        # we should add some output to the progress bar so that we know which epoch we are training, and what the current loss is\n",
        "        if batch_idx % 100 == 0:\n",
        "\n",
        "            # append the last loss value\n",
        "            train_losses.append(loss.item())\n",
        "            steps.append(current_step)\n",
        "\n",
        "            desc = (f'Train Epoch: {epoch} [{batch_idx * len(data)}/{len(train_loader.dataset)}'\n",
        "                    f' ({100. * batch_idx / len(train_loader):.0f}%)]\\tLoss: {loss.item():.6f}')\n",
        "            pbar.set_description(desc)\n",
        "\n",
        "    return current_step\n",
        "\n",
        "# declare a test function, this will help us evaluate the model progress on a dataset which is different from the training dataset\n",
        "# doing so prevents cross-contamination and misleading results due to overfitting\n",
        "def cpu_test(test_losses, test_accuracy, steps, current_step):\n",
        "\n",
        "    # put the model into eval mode, this again does not currently do anything for us, but it is needed with other layers like batch_norm and dropout\n",
        "    model.eval()\n",
        "    test_loss = 0\n",
        "    correct = 0\n",
        "\n",
        "    # Create tqdm progress bar\n",
        "    pbar = tqdm(test_loader, total=len(test_loader), desc=\"Testing...\")\n",
        "\n",
        "    # since we are not training the model, and do not need back-propogation, we can use a no_grad() context\n",
        "    with torch.no_grad():\n",
        "        # iterate over the test set\n",
        "        for data, target in pbar:\n",
        "            # like with training, run a forward pass through the model and evaluate the critereon\n",
        "            output = model(data)\n",
        "            test_loss += criterion(output, target).item() # we are using .item() to get the loss value rather than the tensor itself\n",
        "\n",
        "            # we can also check the accuracy by sampling the output - we can use greedy sampling which is argmax (maximum probability)\n",
        "            # in general, you would want to normalize the logits first (the un-normalized output of the model), which is done via .softmax()\n",
        "            # however, argmax is taking the maximum value, which will be the same index for the normalized and un-normalized distributions\n",
        "            # so we can skip a step and take argmax directly\n",
        "            pred = output.argmax(dim=1, keepdim=True)\n",
        "            correct += pred.eq(target.view_as(pred)).sum().item()\n",
        "\n",
        "    test_loss /= len(test_loader)\n",
        "\n",
        "    # append the final test loss\n",
        "    test_losses.append(test_loss)\n",
        "    test_accuracy.append(correct/len(test_loader.dataset))\n",
        "    steps.append(current_step)\n",
        "\n",
        "    print(f'\\nTest set: Average loss: {test_loss:.4f}, Accuracy: {correct}/{len(test_loader.dataset)}'\n",
        "          f' ({100. * correct / len(test_loader.dataset):.0f}%)\\n')\n"
      ],
      "metadata": {
        "id": "PdN0UYib8dBx"
      },
      "execution_count": 12,
      "outputs": []
    },
    {
      "cell_type": "code",
      "source": [
        "# train for 10 epochs\n",
        "for epoch in range(0, 10):\n",
        "    current_step = cpu_train(current_epoch, train_losses, train_steps, current_step)\n",
        "    cpu_test(test_losses, test_accuracy, test_steps, current_step)\n",
        "    current_epoch += 1"
      ],
      "metadata": {
        "id": "tp6R3sRhUu9l",
        "colab": {
          "base_uri": "https://localhost:8080/"
        },
        "outputId": "3f91eb06-3a4e-479f-a421-d8eb26a0959f"
      },
      "execution_count": 13,
      "outputs": [
        {
          "output_type": "stream",
          "name": "stderr",
          "text": [
            "Train Epoch: 0 [57600/60000 (96%)]\tLoss: 0.336448: 100%|██████████| 938/938 [00:19<00:00, 48.78it/s]\n",
            "Testing...: 100%|██████████| 157/157 [00:02<00:00, 58.98it/s]\n"
          ]
        },
        {
          "output_type": "stream",
          "name": "stdout",
          "text": [
            "\n",
            "Test set: Average loss: 0.2771, Accuracy: 9215/10000 (92%)\n",
            "\n"
          ]
        },
        {
          "output_type": "stream",
          "name": "stderr",
          "text": [
            "Train Epoch: 1 [57600/60000 (96%)]\tLoss: 0.245109: 100%|██████████| 938/938 [00:13<00:00, 70.11it/s]\n",
            "Testing...: 100%|██████████| 157/157 [00:01<00:00, 78.57it/s]\n"
          ]
        },
        {
          "output_type": "stream",
          "name": "stdout",
          "text": [
            "\n",
            "Test set: Average loss: 0.2031, Accuracy: 9417/10000 (94%)\n",
            "\n"
          ]
        },
        {
          "output_type": "stream",
          "name": "stderr",
          "text": [
            "Train Epoch: 2 [57600/60000 (96%)]\tLoss: 0.265508: 100%|██████████| 938/938 [00:13<00:00, 71.05it/s]\n",
            "Testing...: 100%|██████████| 157/157 [00:01<00:00, 80.99it/s]\n"
          ]
        },
        {
          "output_type": "stream",
          "name": "stdout",
          "text": [
            "\n",
            "Test set: Average loss: 0.1659, Accuracy: 9504/10000 (95%)\n",
            "\n"
          ]
        },
        {
          "output_type": "stream",
          "name": "stderr",
          "text": [
            "Train Epoch: 3 [57600/60000 (96%)]\tLoss: 0.051986: 100%|██████████| 938/938 [00:14<00:00, 66.97it/s]\n",
            "Testing...: 100%|██████████| 157/157 [00:01<00:00, 80.61it/s]\n"
          ]
        },
        {
          "output_type": "stream",
          "name": "stdout",
          "text": [
            "\n",
            "Test set: Average loss: 0.1390, Accuracy: 9597/10000 (96%)\n",
            "\n"
          ]
        },
        {
          "output_type": "stream",
          "name": "stderr",
          "text": [
            "Train Epoch: 4 [57600/60000 (96%)]\tLoss: 0.139871: 100%|██████████| 938/938 [00:13<00:00, 67.43it/s]\n",
            "Testing...: 100%|██████████| 157/157 [00:02<00:00, 71.47it/s]\n"
          ]
        },
        {
          "output_type": "stream",
          "name": "stdout",
          "text": [
            "\n",
            "Test set: Average loss: 0.1228, Accuracy: 9640/10000 (96%)\n",
            "\n"
          ]
        },
        {
          "output_type": "stream",
          "name": "stderr",
          "text": [
            "Train Epoch: 5 [57600/60000 (96%)]\tLoss: 0.100189: 100%|██████████| 938/938 [00:13<00:00, 70.02it/s]\n",
            "Testing...: 100%|██████████| 157/157 [00:01<00:00, 81.62it/s]\n"
          ]
        },
        {
          "output_type": "stream",
          "name": "stdout",
          "text": [
            "\n",
            "Test set: Average loss: 0.1123, Accuracy: 9657/10000 (97%)\n",
            "\n"
          ]
        },
        {
          "output_type": "stream",
          "name": "stderr",
          "text": [
            "Train Epoch: 6 [57600/60000 (96%)]\tLoss: 0.134084: 100%|██████████| 938/938 [00:13<00:00, 67.55it/s]\n",
            "Testing...: 100%|██████████| 157/157 [00:02<00:00, 59.18it/s]\n"
          ]
        },
        {
          "output_type": "stream",
          "name": "stdout",
          "text": [
            "\n",
            "Test set: Average loss: 0.1024, Accuracy: 9696/10000 (97%)\n",
            "\n"
          ]
        },
        {
          "output_type": "stream",
          "name": "stderr",
          "text": [
            "Train Epoch: 7 [57600/60000 (96%)]\tLoss: 0.210443: 100%|██████████| 938/938 [00:15<00:00, 61.29it/s]\n",
            "Testing...: 100%|██████████| 157/157 [00:02<00:00, 74.23it/s]\n"
          ]
        },
        {
          "output_type": "stream",
          "name": "stdout",
          "text": [
            "\n",
            "Test set: Average loss: 0.0954, Accuracy: 9730/10000 (97%)\n",
            "\n"
          ]
        },
        {
          "output_type": "stream",
          "name": "stderr",
          "text": [
            "Train Epoch: 8 [57600/60000 (96%)]\tLoss: 0.079567: 100%|██████████| 938/938 [00:13<00:00, 69.80it/s]\n",
            "Testing...: 100%|██████████| 157/157 [00:02<00:00, 78.24it/s]\n"
          ]
        },
        {
          "output_type": "stream",
          "name": "stdout",
          "text": [
            "\n",
            "Test set: Average loss: 0.0910, Accuracy: 9723/10000 (97%)\n",
            "\n"
          ]
        },
        {
          "output_type": "stream",
          "name": "stderr",
          "text": [
            "Train Epoch: 9 [57600/60000 (96%)]\tLoss: 0.043709: 100%|██████████| 938/938 [00:13<00:00, 69.42it/s]\n",
            "Testing...: 100%|██████████| 157/157 [00:02<00:00, 77.11it/s]"
          ]
        },
        {
          "output_type": "stream",
          "name": "stdout",
          "text": [
            "\n",
            "Test set: Average loss: 0.0861, Accuracy: 9745/10000 (97%)\n",
            "\n"
          ]
        },
        {
          "output_type": "stream",
          "name": "stderr",
          "text": [
            "\n"
          ]
        }
      ]
    },
    {
      "cell_type": "markdown",
      "source": [
        "Visualize the loss for training and validation using matplotlib. They should be plotted on the same graph, labeled, and use a log-scale on the y-axis.\n",
        "\n",
        "**Question 2**"
      ],
      "metadata": {
        "id": "PapjPPn7HEDK"
      }
    },
    {
      "cell_type": "code",
      "source": [
        "# visualize the losses for the first 10 epochs\n",
        "import matplotlib.pyplot as plt\n",
        "\n",
        "plt.figure(figsize=(6, 4))\n",
        "\n",
        "# Plot training loss\n",
        "plt.plot(train_steps, train_losses, label=\"Training Loss\")\n",
        "\n",
        "# Plot validation (test) loss\n",
        "plt.plot(test_steps, test_losses, label=\"Validation Loss\")\n",
        "\n",
        "# Set log scale for y-axis\n",
        "plt.yscale(\"log\")\n",
        "\n",
        "# Labels and title\n",
        "plt.xlabel(\"Steps\")\n",
        "plt.ylabel(\"Loss (log scale)\")\n",
        "plt.title(\"Training vs Validation Loss\")\n",
        "\n",
        "# Show legend\n",
        "plt.legend()\n",
        "\n",
        "plt.show()\n"
      ],
      "metadata": {
        "id": "dRk-7A8L-xAf",
        "colab": {
          "base_uri": "https://localhost:8080/",
          "height": 410
        },
        "outputId": "0c6a05e8-87f9-4bf9-b954-6cdfb7050a64"
      },
      "execution_count": 14,
      "outputs": [
        {
          "output_type": "display_data",
          "data": {
            "text/plain": [
              "<Figure size 600x400 with 1 Axes>"
            ],
            "image/png": "[encoded data removed]"
          },
          "metadata": {}
        }
      ]
    },
    {
      "cell_type": "markdown",
      "source": [
        "The model may be able to train for a bit longer. Modify the previous training code to also report the time per epoch and the time for 10 epochs with testing. You can use `time.time()` to get the current time in seconds.\n",
        "Then run the model for another 10 epochs, printing out the execution time at the end, and replot the loss functions with the extra 10 epochs below.\n",
        "\n",
        "**Question 3**"
      ],
      "metadata": {
        "id": "KOeNII5-J2gr"
      }
    },
    {
      "cell_type": "code",
      "source": [
        "import time\n",
        "\n",
        "# ---- Train for another 10 epochs with timing ----\n",
        "start_total = time.time()\n",
        "\n",
        "for epoch in range(10, 20):   # continue training from epoch 10 → 19\n",
        "    start_epoch = time.time()\n",
        "\n",
        "    # Train one epoch\n",
        "    current_step = cpu_train(current_epoch, train_losses, train_steps, current_step)\n",
        "\n",
        "    # Evaluate on validation/test set\n",
        "    cpu_test(test_losses, test_accuracy, test_steps, current_step)\n",
        "\n",
        "    # Report time per epoch\n",
        "    end_epoch = time.time()\n",
        "    print(f\"Epoch {epoch+1} finished in {end_epoch - start_epoch:.2f} seconds.\")\n",
        "\n",
        "    current_epoch += 1\n",
        "\n",
        "# Report total time for 10 extra epochs\n",
        "end_total = time.time()\n",
        "print(f\"\\nTotal time for 10 extra epochs (with testing): {end_total - start_total:.2f} seconds.\")\n"
      ],
      "metadata": {
        "id": "o_TPXACGeBfi",
        "outputId": "542b08d9-45aa-4c69-cfa2-cd17e2155d39",
        "colab": {
          "base_uri": "https://localhost:8080/"
        }
      },
      "execution_count": 15,
      "outputs": [
        {
          "output_type": "stream",
          "name": "stderr",
          "text": [
            "Train Epoch: 10 [57600/60000 (96%)]\tLoss: 0.020552: 100%|██████████| 938/938 [00:14<00:00, 65.13it/s]\n",
            "Testing...: 100%|██████████| 157/157 [00:02<00:00, 64.11it/s]\n"
          ]
        },
        {
          "output_type": "stream",
          "name": "stdout",
          "text": [
            "\n",
            "Test set: Average loss: 0.0856, Accuracy: 9739/10000 (97%)\n",
            "\n",
            "Epoch 11 finished in 16.86 seconds.\n"
          ]
        },
        {
          "output_type": "stream",
          "name": "stderr",
          "text": [
            "Train Epoch: 11 [57600/60000 (96%)]\tLoss: 0.029496: 100%|██████████| 938/938 [00:13<00:00, 69.49it/s]\n",
            "Testing...: 100%|██████████| 157/157 [00:02<00:00, 77.79it/s]\n"
          ]
        },
        {
          "output_type": "stream",
          "name": "stdout",
          "text": [
            "\n",
            "Test set: Average loss: 0.0800, Accuracy: 9770/10000 (98%)\n",
            "\n",
            "Epoch 12 finished in 15.52 seconds.\n"
          ]
        },
        {
          "output_type": "stream",
          "name": "stderr",
          "text": [
            "Train Epoch: 12 [57600/60000 (96%)]\tLoss: 0.023452: 100%|██████████| 938/938 [00:13<00:00, 69.62it/s]\n",
            "Testing...: 100%|██████████| 157/157 [00:01<00:00, 79.60it/s]\n"
          ]
        },
        {
          "output_type": "stream",
          "name": "stdout",
          "text": [
            "\n",
            "Test set: Average loss: 0.0805, Accuracy: 9755/10000 (98%)\n",
            "\n",
            "Epoch 13 finished in 15.45 seconds.\n"
          ]
        },
        {
          "output_type": "stream",
          "name": "stderr",
          "text": [
            "Train Epoch: 13 [57600/60000 (96%)]\tLoss: 0.018324: 100%|██████████| 938/938 [00:13<00:00, 69.69it/s]\n",
            "Testing...: 100%|██████████| 157/157 [00:02<00:00, 67.85it/s]\n"
          ]
        },
        {
          "output_type": "stream",
          "name": "stdout",
          "text": [
            "\n",
            "Test set: Average loss: 0.0777, Accuracy: 9777/10000 (98%)\n",
            "\n",
            "Epoch 14 finished in 15.78 seconds.\n"
          ]
        },
        {
          "output_type": "stream",
          "name": "stderr",
          "text": [
            "Train Epoch: 14 [57600/60000 (96%)]\tLoss: 0.022303: 100%|██████████| 938/938 [00:13<00:00, 68.27it/s]\n",
            "Testing...: 100%|██████████| 157/157 [00:01<00:00, 79.90it/s]\n"
          ]
        },
        {
          "output_type": "stream",
          "name": "stdout",
          "text": [
            "\n",
            "Test set: Average loss: 0.0739, Accuracy: 9769/10000 (98%)\n",
            "\n",
            "Epoch 15 finished in 15.71 seconds.\n"
          ]
        },
        {
          "output_type": "stream",
          "name": "stderr",
          "text": [
            "Train Epoch: 15 [57600/60000 (96%)]\tLoss: 0.123947: 100%|██████████| 938/938 [00:13<00:00, 69.85it/s]\n",
            "Testing...: 100%|██████████| 157/157 [00:01<00:00, 79.39it/s]\n"
          ]
        },
        {
          "output_type": "stream",
          "name": "stdout",
          "text": [
            "\n",
            "Test set: Average loss: 0.0746, Accuracy: 9764/10000 (98%)\n",
            "\n",
            "Epoch 16 finished in 15.41 seconds.\n"
          ]
        },
        {
          "output_type": "stream",
          "name": "stderr",
          "text": [
            "Train Epoch: 16 [57600/60000 (96%)]\tLoss: 0.014026: 100%|██████████| 938/938 [00:13<00:00, 70.02it/s]\n",
            "Testing...: 100%|██████████| 157/157 [00:01<00:00, 79.14it/s]\n"
          ]
        },
        {
          "output_type": "stream",
          "name": "stdout",
          "text": [
            "\n",
            "Test set: Average loss: 0.0708, Accuracy: 9782/10000 (98%)\n",
            "\n",
            "Epoch 17 finished in 15.39 seconds.\n"
          ]
        },
        {
          "output_type": "stream",
          "name": "stderr",
          "text": [
            "Train Epoch: 17 [57600/60000 (96%)]\tLoss: 0.042589: 100%|██████████| 938/938 [00:13<00:00, 68.30it/s]\n",
            "Testing...: 100%|██████████| 157/157 [00:02<00:00, 63.09it/s]\n"
          ]
        },
        {
          "output_type": "stream",
          "name": "stdout",
          "text": [
            "\n",
            "Test set: Average loss: 0.0727, Accuracy: 9766/10000 (98%)\n",
            "\n",
            "Epoch 18 finished in 16.23 seconds.\n"
          ]
        },
        {
          "output_type": "stream",
          "name": "stderr",
          "text": [
            "Train Epoch: 18 [57600/60000 (96%)]\tLoss: 0.008390: 100%|██████████| 938/938 [00:13<00:00, 69.67it/s]\n",
            "Testing...: 100%|██████████| 157/157 [00:01<00:00, 78.62it/s]\n"
          ]
        },
        {
          "output_type": "stream",
          "name": "stdout",
          "text": [
            "\n",
            "Test set: Average loss: 0.0718, Accuracy: 9770/10000 (98%)\n",
            "\n",
            "Epoch 19 finished in 15.47 seconds.\n"
          ]
        },
        {
          "output_type": "stream",
          "name": "stderr",
          "text": [
            "Train Epoch: 19 [57600/60000 (96%)]\tLoss: 0.008810: 100%|██████████| 938/938 [00:13<00:00, 69.09it/s]\n",
            "Testing...: 100%|██████████| 157/157 [00:01<00:00, 79.41it/s]"
          ]
        },
        {
          "output_type": "stream",
          "name": "stdout",
          "text": [
            "\n",
            "Test set: Average loss: 0.0706, Accuracy: 9778/10000 (98%)\n",
            "\n",
            "Epoch 20 finished in 15.56 seconds.\n",
            "\n",
            "Total time for 10 extra epochs (with testing): 157.38 seconds.\n"
          ]
        },
        {
          "output_type": "stream",
          "name": "stderr",
          "text": [
            "\n"
          ]
        }
      ]
    },
    {
      "cell_type": "code",
      "source": [
        "# visualize the losses for 20 epochs\n",
        "import matplotlib.pyplot as plt\n",
        "\n",
        "# ---- Visualize losses after 20 epochs ----\n",
        "plt.figure(figsize=(6, 4))\n",
        "plt.plot(train_steps, train_losses, label=\"Training Loss\")\n",
        "plt.plot(test_steps, test_losses, label=\"Validation Loss\")\n",
        "plt.yscale(\"log\")\n",
        "plt.xlabel(\"Steps\")\n",
        "plt.ylabel(\"Loss (log scale)\")\n",
        "plt.title(\"Training vs Validation Loss (20 Epochs)\")\n",
        "plt.legend()\n",
        "plt.show()\n"
      ],
      "metadata": {
        "id": "dhI_yXAjKjzJ",
        "colab": {
          "base_uri": "https://localhost:8080/",
          "height": 564
        },
        "outputId": "5a0f69df-2be3-4368-ec66-e95bad340284"
      },
      "execution_count": 16,
      "outputs": [
        {
          "output_type": "display_data",
          "data": {
            "text/plain": [
              "<Figure size 800x600 with 1 Axes>"
            ],
            "image/png": "[encoded data removed]"
          },
          "metadata": {}
        }
      ]
    },
    {
      "cell_type": "markdown",
      "source": [
        "Make an observation from the above plot. Do the test and train loss curves indicate that the model should train longer to improve accuracy? Or does it indicate that 20 epochs is too long?\n",
        "\n",
        "**Question 4**"
      ],
      "metadata": {
        "id": "7LwAnncyLrv-"
      }
    },
    {
      "cell_type": "markdown",
      "source": [
        "The model is not overfitting, validation loss continues to go down and closely follows the training loss.\n",
        "\n",
        "The model is still improving after 20 epochs (reaching 98% accuracy).\n",
        "\n",
        "This suggests that training longer could still improve accuracy slightly, though improvements may now be smaller per epoch (diminishing returns).\n",
        "\n",
        "So, 20 epochs is not too long it’s appropriate, and the model could continue for a few more epochs to squeeze out extra accuracy."
      ],
      "metadata": {
        "id": "nU8VwbfPMFT8"
      }
    },
    {
      "cell_type": "markdown",
      "source": [
        "## Moving to the GPU\n",
        "\n",
        "Now that we have a model trained on the CPU, let's finally utilize the T4 GPU that we requested for this instance.\n",
        "\n",
        "using a GPU with torch is relatively simple, but has a few gotchas. Torch abstracts away most of the CUDA runtime API, but has a few hold-over concepts such as moving data between devices.\n",
        "Additionally, since the GPU is treated as a device seperate from the CPU, you cannot combine CPU and GPU based tensors in the same operation. Doing so will result in a device mismatch error. If this occurs, check where the tensors are located (you can always print `.device` on a tensor), and make sure they have been properly moved to the correct device.\n",
        "\n",
        "We'll start by creating a new model, optimizer, and critereon (not necessary but for completeness). However, one change that we'll make is moving the model to the GPU first. This can be done by calling `.cuda()` in general, or `.to(\"cuda\")` to be more explict. Specific GPU devices can be targetted such as `.to(\"cuda:0\")` for the first GPU (index 0), but we only have 1 GPU in colab so this is not necessary."
      ],
      "metadata": {
        "id": "uTlmnBdaMOCk"
      }
    },
    {
      "cell_type": "code",
      "source": [
        "# create the model\n",
        "model = MLP()\n",
        "\n",
        "# move the model to the GPU\n",
        "model.cuda()\n",
        "\n",
        "# for a critereon (loss) funciton, we will use Cross-Entropy Loss. This is the most common critereon used for multi-class prediction, and is also used by tokenized transformer models\n",
        "# it takes in an un-normalized probability distribution (i.e. without softmax) over N classes (in our case, 10 classes with MNIST). This distribution is then compared to an integer label\n",
        "# which is < N. For MNIST, the prediction might be [-0.0056, -0.2044,  1.1726,  0.0859,  1.8443, -0.9627,  0.9785, -1.0752, 1.1376,  1.8220], with the label 3.\n",
        "# Cross-entropy can be thought of as finding the difference between what the predicted distribution and the one-hot distribution\n",
        "\n",
        "criterion = nn.CrossEntropyLoss()\n",
        "\n",
        "# then we can intantiate the optimizer. We will use Stochastic Gradient Descent (SGD), and can set the learning rate to 0.1 with a momentum factor of 0.5\n",
        "# the first input to the optimizer is the list of model parameters, which is obtained by calling .parameters() on the model object\n",
        "optimizer = optim.SGD(model.parameters(), lr=0.01, momentum=0.5)"
      ],
      "metadata": {
        "id": "wFzM3dX0LbTr"
      },
      "execution_count": 17,
      "outputs": []
    },
    {
      "cell_type": "code",
      "source": [
        "# create a new array to log the loss and accuracy\n",
        "train_losses = []\n",
        "train_steps = []\n",
        "test_steps = []\n",
        "test_losses = []\n",
        "test_accuracy = []\n",
        "current_step = 0  # Start with global step 0\n",
        "current_epoch = 0 # Start with epoch 0"
      ],
      "metadata": {
        "id": "icc6zF4RN0aX"
      },
      "execution_count": 18,
      "outputs": []
    },
    {
      "cell_type": "markdown",
      "source": [
        "Now, copy your previous training code with the timing parameters below.\n",
        "It needs to be slightly modified to move everything to the GPU.\n",
        "\n",
        "Before the line `output = model(data)`, add:\n",
        "```\n",
        "data = data.cuda()\n",
        "target = target.cuda()\n",
        "```\n",
        "\n",
        "Note that this is needed in both the train and test functions.\n",
        "\n",
        "**Question 5**\n"
      ],
      "metadata": {
        "id": "3GF2ZC05N4bA"
      }
    },
    {
      "cell_type": "code",
      "source": [
        "# the new GPU training functions\n",
        "device = torch.device(\"cuda\" if torch.cuda.is_available() else \"cpu\")\n",
        "model = MLP().to(device)  # Move model to GPU\n",
        "criterion = nn.CrossEntropyLoss()\n",
        "optimizer = optim.SGD(model.parameters(), lr=0.01, momentum=0.5)\n",
        "\n",
        "# Arrays to log metrics\n",
        "train_losses = []\n",
        "train_steps = []\n",
        "test_losses = []\n",
        "test_accuracy = []\n",
        "current_step = 0\n",
        "\n",
        "# --- GPU Training Function ---\n",
        "def train(model, device, train_loader, optimizer, criterion, epoch):\n",
        "    global current_step\n",
        "    model.train()\n",
        "    for batch_idx, (data, target) in enumerate(train_loader):\n",
        "        # Move data to GPU\n",
        "        data, target = data.to(device), target.to(device)\n",
        "\n",
        "        optimizer.zero_grad()\n",
        "        output = model(data)\n",
        "        loss = criterion(output, target)\n",
        "        loss.backward()\n",
        "        optimizer.step()\n",
        "\n",
        "        # Log training loss\n",
        "        train_losses.append(loss.item())\n",
        "        train_steps.append(current_step)\n",
        "        current_step += 1\n",
        "\n",
        "        if batch_idx % 100 == 0:\n",
        "            print(f\"Train Epoch: {epoch} [{batch_idx * len(data)}/{len(train_loader.dataset)} \"\n",
        "                  f\"({100. * batch_idx / len(train_loader):.0f}%)]\\tLoss: {loss.item():.6f}\")\n",
        "\n",
        "# --- GPU Test Function ---\n",
        "def test(model, device, test_loader, criterion):\n",
        "    model.eval()\n",
        "    test_loss = 0\n",
        "    correct = 0\n",
        "    total = 0\n",
        "    with torch.no_grad():\n",
        "        for data, target in test_loader:\n",
        "            # Move data to GPU\n",
        "            data, target = data.to(device), target.to(device)\n",
        "\n",
        "            output = model(data)\n",
        "            loss = criterion(output, target)\n",
        "            test_loss += loss.item() * data.size(0)  # sum up batch loss\n",
        "\n",
        "            # Accuracy\n",
        "            pred = output.argmax(dim=1, keepdim=True)\n",
        "            correct += pred.eq(target.view_as(pred)).sum().item()\n",
        "            total += target.size(0)\n",
        "\n",
        "    avg_test_loss = test_loss / total\n",
        "    accuracy = correct / total\n",
        "    test_losses.append(avg_test_loss)\n",
        "    test_accuracy.append(accuracy)\n",
        "\n",
        "    print(f\"\\nTest set: Average loss: {avg_test_loss:.4f}, Accuracy: {correct}/{total} \"\n",
        "          f\"({100. * accuracy:.2f}%)\\n\")\n",
        "\n"
      ],
      "metadata": {
        "id": "WfWk9TD8OSMB"
      },
      "execution_count": 29,
      "outputs": []
    },
    {
      "cell_type": "code",
      "source": [
        "# new GPU training for 10 epochs\n",
        "num_epochs = 10\n",
        "\n",
        "for epoch in range(1, num_epochs + 1):\n",
        "    # Train for one epoch\n",
        "    train(model, device, train_loader, optimizer, criterion, epoch)\n",
        "\n",
        "    # Test after each epoch\n",
        "    test(model, device, test_loader, criterion)\n"
      ],
      "metadata": {
        "id": "LWQq5oIHZvem",
        "colab": {
          "base_uri": "https://localhost:8080/"
        },
        "outputId": "55415c9a-dc25-4b2d-fd28-0923843bb402"
      },
      "execution_count": 30,
      "outputs": [
        {
          "output_type": "stream",
          "name": "stdout",
          "text": [
            "Train Epoch: 1 [0/60000 (0%)]\tLoss: 2.299050\n",
            "Train Epoch: 1 [6400/60000 (11%)]\tLoss: 1.210489\n",
            "Train Epoch: 1 [12800/60000 (21%)]\tLoss: 0.635702\n",
            "Train Epoch: 1 [19200/60000 (32%)]\tLoss: 0.297501\n",
            "Train Epoch: 1 [25600/60000 (43%)]\tLoss: 0.358916\n",
            "Train Epoch: 1 [32000/60000 (53%)]\tLoss: 0.263087\n",
            "Train Epoch: 1 [38400/60000 (64%)]\tLoss: 0.390373\n",
            "Train Epoch: 1 [44800/60000 (75%)]\tLoss: 0.227037\n",
            "Train Epoch: 1 [51200/60000 (85%)]\tLoss: 0.220398\n",
            "Train Epoch: 1 [57600/60000 (96%)]\tLoss: 0.335257\n",
            "\n",
            "Test set: Average loss: 0.2736, Accuracy: 9205/10000 (92.05%)\n",
            "\n",
            "Train Epoch: 2 [0/60000 (0%)]\tLoss: 0.309318\n",
            "Train Epoch: 2 [6400/60000 (11%)]\tLoss: 0.157975\n",
            "Train Epoch: 2 [12800/60000 (21%)]\tLoss: 0.189773\n",
            "Train Epoch: 2 [19200/60000 (32%)]\tLoss: 0.296785\n",
            "Train Epoch: 2 [25600/60000 (43%)]\tLoss: 0.283860\n",
            "Train Epoch: 2 [32000/60000 (53%)]\tLoss: 0.182703\n",
            "Train Epoch: 2 [38400/60000 (64%)]\tLoss: 0.164307\n",
            "Train Epoch: 2 [44800/60000 (75%)]\tLoss: 0.210343\n",
            "Train Epoch: 2 [51200/60000 (85%)]\tLoss: 0.274523\n",
            "Train Epoch: 2 [57600/60000 (96%)]\tLoss: 0.207467\n",
            "\n",
            "Test set: Average loss: 0.2109, Accuracy: 9373/10000 (93.73%)\n",
            "\n",
            "Train Epoch: 3 [0/60000 (0%)]\tLoss: 0.093282\n",
            "Train Epoch: 3 [6400/60000 (11%)]\tLoss: 0.134691\n",
            "Train Epoch: 3 [12800/60000 (21%)]\tLoss: 0.151500\n",
            "Train Epoch: 3 [19200/60000 (32%)]\tLoss: 0.141266\n",
            "Train Epoch: 3 [25600/60000 (43%)]\tLoss: 0.249669\n",
            "Train Epoch: 3 [32000/60000 (53%)]\tLoss: 0.251147\n",
            "Train Epoch: 3 [38400/60000 (64%)]\tLoss: 0.422368\n",
            "Train Epoch: 3 [44800/60000 (75%)]\tLoss: 0.083294\n",
            "Train Epoch: 3 [51200/60000 (85%)]\tLoss: 0.221231\n",
            "Train Epoch: 3 [57600/60000 (96%)]\tLoss: 0.115204\n",
            "\n",
            "Test set: Average loss: 0.1580, Accuracy: 9524/10000 (95.24%)\n",
            "\n",
            "Train Epoch: 4 [0/60000 (0%)]\tLoss: 0.089014\n",
            "Train Epoch: 4 [6400/60000 (11%)]\tLoss: 0.181081\n",
            "Train Epoch: 4 [12800/60000 (21%)]\tLoss: 0.417174\n",
            "Train Epoch: 4 [19200/60000 (32%)]\tLoss: 0.167101\n",
            "Train Epoch: 4 [25600/60000 (43%)]\tLoss: 0.114740\n",
            "Train Epoch: 4 [32000/60000 (53%)]\tLoss: 0.234755\n",
            "Train Epoch: 4 [38400/60000 (64%)]\tLoss: 0.264861\n",
            "Train Epoch: 4 [44800/60000 (75%)]\tLoss: 0.187977\n",
            "Train Epoch: 4 [51200/60000 (85%)]\tLoss: 0.228181\n",
            "Train Epoch: 4 [57600/60000 (96%)]\tLoss: 0.053769\n",
            "\n",
            "Test set: Average loss: 0.1341, Accuracy: 9608/10000 (96.08%)\n",
            "\n",
            "Train Epoch: 5 [0/60000 (0%)]\tLoss: 0.068084\n",
            "Train Epoch: 5 [6400/60000 (11%)]\tLoss: 0.084845\n",
            "Train Epoch: 5 [12800/60000 (21%)]\tLoss: 0.156391\n",
            "Train Epoch: 5 [19200/60000 (32%)]\tLoss: 0.117252\n",
            "Train Epoch: 5 [25600/60000 (43%)]\tLoss: 0.177063\n",
            "Train Epoch: 5 [32000/60000 (53%)]\tLoss: 0.141759\n",
            "Train Epoch: 5 [38400/60000 (64%)]\tLoss: 0.307106\n",
            "Train Epoch: 5 [44800/60000 (75%)]\tLoss: 0.094575\n",
            "Train Epoch: 5 [51200/60000 (85%)]\tLoss: 0.075386\n",
            "Train Epoch: 5 [57600/60000 (96%)]\tLoss: 0.068987\n",
            "\n",
            "Test set: Average loss: 0.1210, Accuracy: 9639/10000 (96.39%)\n",
            "\n",
            "Train Epoch: 6 [0/60000 (0%)]\tLoss: 0.083432\n",
            "Train Epoch: 6 [6400/60000 (11%)]\tLoss: 0.145042\n",
            "Train Epoch: 6 [12800/60000 (21%)]\tLoss: 0.057612\n",
            "Train Epoch: 6 [19200/60000 (32%)]\tLoss: 0.104819\n",
            "Train Epoch: 6 [25600/60000 (43%)]\tLoss: 0.059707\n",
            "Train Epoch: 6 [32000/60000 (53%)]\tLoss: 0.027842\n",
            "Train Epoch: 6 [38400/60000 (64%)]\tLoss: 0.187046\n",
            "Train Epoch: 6 [44800/60000 (75%)]\tLoss: 0.106131\n",
            "Train Epoch: 6 [51200/60000 (85%)]\tLoss: 0.124202\n",
            "Train Epoch: 6 [57600/60000 (96%)]\tLoss: 0.110188\n",
            "\n",
            "Test set: Average loss: 0.1067, Accuracy: 9679/10000 (96.79%)\n",
            "\n",
            "Train Epoch: 7 [0/60000 (0%)]\tLoss: 0.051911\n",
            "Train Epoch: 7 [6400/60000 (11%)]\tLoss: 0.055124\n",
            "Train Epoch: 7 [12800/60000 (21%)]\tLoss: 0.035257\n",
            "Train Epoch: 7 [19200/60000 (32%)]\tLoss: 0.083343\n",
            "Train Epoch: 7 [25600/60000 (43%)]\tLoss: 0.107714\n",
            "Train Epoch: 7 [32000/60000 (53%)]\tLoss: 0.141790\n",
            "Train Epoch: 7 [38400/60000 (64%)]\tLoss: 0.056546\n",
            "Train Epoch: 7 [44800/60000 (75%)]\tLoss: 0.073067\n",
            "Train Epoch: 7 [51200/60000 (85%)]\tLoss: 0.039021\n",
            "Train Epoch: 7 [57600/60000 (96%)]\tLoss: 0.053897\n",
            "\n",
            "Test set: Average loss: 0.1005, Accuracy: 9700/10000 (97.00%)\n",
            "\n",
            "Train Epoch: 8 [0/60000 (0%)]\tLoss: 0.069645\n",
            "Train Epoch: 8 [6400/60000 (11%)]\tLoss: 0.043078\n",
            "Train Epoch: 8 [12800/60000 (21%)]\tLoss: 0.080134\n",
            "Train Epoch: 8 [19200/60000 (32%)]\tLoss: 0.166873\n",
            "Train Epoch: 8 [25600/60000 (43%)]\tLoss: 0.016497\n",
            "Train Epoch: 8 [32000/60000 (53%)]\tLoss: 0.120802\n",
            "Train Epoch: 8 [38400/60000 (64%)]\tLoss: 0.171900\n",
            "Train Epoch: 8 [44800/60000 (75%)]\tLoss: 0.032693\n",
            "Train Epoch: 8 [51200/60000 (85%)]\tLoss: 0.025143\n",
            "Train Epoch: 8 [57600/60000 (96%)]\tLoss: 0.111644\n",
            "\n",
            "Test set: Average loss: 0.0918, Accuracy: 9715/10000 (97.15%)\n",
            "\n",
            "Train Epoch: 9 [0/60000 (0%)]\tLoss: 0.160326\n",
            "Train Epoch: 9 [6400/60000 (11%)]\tLoss: 0.254356\n",
            "Train Epoch: 9 [12800/60000 (21%)]\tLoss: 0.158917\n",
            "Train Epoch: 9 [19200/60000 (32%)]\tLoss: 0.050470\n",
            "Train Epoch: 9 [25600/60000 (43%)]\tLoss: 0.062898\n",
            "Train Epoch: 9 [32000/60000 (53%)]\tLoss: 0.081821\n",
            "Train Epoch: 9 [38400/60000 (64%)]\tLoss: 0.031913\n",
            "Train Epoch: 9 [44800/60000 (75%)]\tLoss: 0.018162\n",
            "Train Epoch: 9 [51200/60000 (85%)]\tLoss: 0.024846\n",
            "Train Epoch: 9 [57600/60000 (96%)]\tLoss: 0.220446\n",
            "\n",
            "Test set: Average loss: 0.0842, Accuracy: 9733/10000 (97.33%)\n",
            "\n",
            "Train Epoch: 10 [0/60000 (0%)]\tLoss: 0.074763\n",
            "Train Epoch: 10 [6400/60000 (11%)]\tLoss: 0.037364\n",
            "Train Epoch: 10 [12800/60000 (21%)]\tLoss: 0.109523\n",
            "Train Epoch: 10 [19200/60000 (32%)]\tLoss: 0.028653\n",
            "Train Epoch: 10 [25600/60000 (43%)]\tLoss: 0.034592\n",
            "Train Epoch: 10 [32000/60000 (53%)]\tLoss: 0.050571\n",
            "Train Epoch: 10 [38400/60000 (64%)]\tLoss: 0.029779\n",
            "Train Epoch: 10 [44800/60000 (75%)]\tLoss: 0.036858\n",
            "Train Epoch: 10 [51200/60000 (85%)]\tLoss: 0.047922\n",
            "Train Epoch: 10 [57600/60000 (96%)]\tLoss: 0.060162\n",
            "\n",
            "Test set: Average loss: 0.0821, Accuracy: 9744/10000 (97.44%)\n",
            "\n"
          ]
        }
      ]
    },
    {
      "cell_type": "markdown",
      "source": [
        "Is training faster now that it's on the GPU? Is the speedup what you would expect? Why or why not?\n",
        "\n",
        "**Question 6**"
      ],
      "metadata": {
        "id": "mmAxl15QP15i"
      }
    },
    {
      "cell_type": "markdown",
      "source": [
        "Training on the GPU is faster due to parallelism and higher memory bandwidth, but for a small model like an MNIST MLP, the speedup is modest because data transfer overhead and small batch sizes limit GPU utilization."
      ],
      "metadata": {
        "id": "eCW8zvzjP-_4"
      }
    },
    {
      "cell_type": "markdown",
      "source": [
        "## Another Model Type: CNN\n",
        "\n",
        "We've trained a simple MLP for MNIST classification, however, MLPs are not a particularly good fit for images.\n",
        "\n",
        "Firstly, using a MLP will require that all images have the same size and shape, since they are unrolled in the input.\n",
        "\n",
        "Secondly, images can make use of translation invariance (a type of data symmetry), which cannot leveraged with a MLP.\n",
        "\n",
        "For these reasons, a convolutional network may be more appropriate, as it will pass kernels over the 2D image, removing the requirement for a fixed image size and leveraging the translation invariance of the 2D images.\n",
        "\n",
        "Let's define a simple CNN below."
      ],
      "metadata": {
        "id": "oY3b857_X13z"
      }
    },
    {
      "cell_type": "code",
      "source": [
        "# Define the CNN model\n",
        "class CNN(nn.Module):\n",
        "    # define the constructor for the network\n",
        "    def __init__(self):\n",
        "        super().__init__()\n",
        "        # instead of declaring the layers independently, let's use the nn.Sequential feature\n",
        "        # these blocks will be executed in list order\n",
        "\n",
        "        # we will break up the model into two parts:\n",
        "        # 1) the convolutional network\n",
        "        # 2) the prediction head (a small MLP)\n",
        "\n",
        "        # the convolutional network\n",
        "        self.net = nn.Sequential(\n",
        "          nn.Conv2d(1, 32, kernel_size=3, stride=1, padding=1),  # the input projection layer - note that a sride of 1 means we are not down-sampling\n",
        "          nn.ReLU(),                                             # activation\n",
        "          nn.Conv2d(32, 64, kernel_size=3, stride=2, padding=1), # an inner layer - note that a stride of 2 means we are down sampling. The output is 28x28 -> 14x14\n",
        "          nn.ReLU(),                                             # activation\n",
        "          nn.Conv2d(64, 128, kernel_size=3, stride=2, padding=1),# an inner layer - note that a stride of 2 means we are down sampling. The output is 14x14 -> 7x7\n",
        "          nn.ReLU(),                                             # activation\n",
        "          nn.AdaptiveMaxPool2d(1),                               # a pooling layer which will output a 1x1 vector for the prediciton head\n",
        "        )\n",
        "\n",
        "        # the prediction head\n",
        "        self.head = nn.Sequential(\n",
        "          nn.Linear(128, 64),      # input projection, the output from the pool layer is a 128 element vector\n",
        "          nn.ReLU(),               # activation\n",
        "          nn.Linear(64, 10)        # class projection to one of the 10 classes (digits 0-9)\n",
        "        )\n",
        "\n",
        "\n",
        "    # define the forward pass compute graph\n",
        "    def forward(self, x):\n",
        "\n",
        "        # pass the input through the convolution network\n",
        "        x = self.net(x)\n",
        "\n",
        "        # reshape the output from Bx128x1x1 to Bx128\n",
        "        x = x.view(x.size(0), -1)\n",
        "\n",
        "        # pass the pooled vector into the prediction head\n",
        "        x = self.head(x)\n",
        "\n",
        "        # the output here is Bx10\n",
        "        return x"
      ],
      "metadata": {
        "id": "qPrKiCT-QY4I"
      },
      "execution_count": 31,
      "outputs": []
    },
    {
      "cell_type": "code",
      "source": [
        "# create the model\n",
        "model = CNN()\n",
        "\n",
        "# print the model and the parameter count\n",
        "print(model)\n",
        "param_count = sum([p.numel() for p in model.parameters()])\n",
        "print(f\"Model has {param_count:,} trainable parameters\")\n",
        "\n",
        "# the loss function\n",
        "criterion = nn.CrossEntropyLoss()\n",
        "\n",
        "# then we can intantiate the optimizer. We will use Stochastic Gradient Descent (SGD), and can set the learning rate to 0.1 with a momentum factor of 0.5\n",
        "# the first input to the optimizer is the list of model parameters, which is obtained by calling .parameters() on the model object\n",
        "optimizer = optim.SGD(model.parameters(), lr=0.01, momentum=0.5)"
      ],
      "metadata": {
        "colab": {
          "base_uri": "https://localhost:8080/"
        },
        "id": "-nNkxodMTfs3",
        "outputId": "6bd1b0ac-348e-44d9-e4bd-b5a97507c06a"
      },
      "execution_count": 22,
      "outputs": [
        {
          "output_type": "stream",
          "name": "stdout",
          "text": [
            "CNN(\n",
            "  (net): Sequential(\n",
            "    (0): Conv2d(1, 32, kernel_size=(3, 3), stride=(1, 1), padding=(1, 1))\n",
            "    (1): ReLU()\n",
            "    (2): Conv2d(32, 64, kernel_size=(3, 3), stride=(2, 2), padding=(1, 1))\n",
            "    (3): ReLU()\n",
            "    (4): Conv2d(64, 128, kernel_size=(3, 3), stride=(2, 2), padding=(1, 1))\n",
            "    (5): ReLU()\n",
            "    (6): AdaptiveMaxPool2d(output_size=1)\n",
            "  )\n",
            "  (head): Sequential(\n",
            "    (0): Linear(in_features=128, out_features=64, bias=True)\n",
            "    (1): ReLU()\n",
            "    (2): Linear(in_features=64, out_features=10, bias=True)\n",
            "  )\n",
            ")\n",
            "Model has 101,578 trainable parameters\n"
          ]
        }
      ]
    },
    {
      "cell_type": "markdown",
      "source": [
        "Notice that this model now has fewer parameters than the MLP. Let's see how it trains.\n",
        "\n",
        "Using the previous code to train on the CPU with timing, execute 2 epochs of training.\n",
        "\n",
        "**Question 7**"
      ],
      "metadata": {
        "id": "yFTQhVJLcqFl"
      }
    },
    {
      "cell_type": "code",
      "source": [
        "# create a new array to log the loss and accuracy\n",
        "train_losses = []\n",
        "train_steps = []\n",
        "test_steps = []\n",
        "test_losses = []\n",
        "test_accuracy = []\n",
        "current_step = 0  # Start with global step 0\n",
        "current_epoch = 0 # Start with epoch 0"
      ],
      "metadata": {
        "id": "8lEsCyWFdBLs"
      },
      "execution_count": 38,
      "outputs": []
    },
    {
      "cell_type": "code",
      "source": [
        "# train for 2 epochs on the CPU\n",
        "device = torch.device(\"cpu\")  # force CPU\n",
        "model = CNN().to(device)\n",
        "criterion = nn.CrossEntropyLoss()\n",
        "optimizer = optim.SGD(model.parameters(), lr=0.01, momentum=0.5)\n",
        "\n",
        "num_epochs = 2\n",
        "current_step = 0\n",
        "\n",
        "for epoch in range(1, num_epochs + 1):\n",
        "    model.train()\n",
        "    for data, target in train_loader:\n",
        "        data, target = data.to(device), target.to(device)\n",
        "\n",
        "        optimizer.zero_grad()\n",
        "        output = model(data)\n",
        "        loss = criterion(output, target)\n",
        "        loss.backward()\n",
        "        optimizer.step()\n",
        "\n",
        "        # log training loss\n",
        "        train_losses.append(loss.item())\n",
        "        train_steps.append(current_step)\n",
        "        current_step += 1\n",
        "\n",
        "    # evaluate on test set\n",
        "    model.eval()\n",
        "    test_loss = 0\n",
        "    correct = 0\n",
        "    total = 0\n",
        "    with torch.no_grad():\n",
        "        for data, target in test_loader:\n",
        "            data, target = data.to(device), target.to(device)\n",
        "            output = model(data)\n",
        "            loss = criterion(output, target)\n",
        "            test_loss += loss.item() * data.size(0)\n",
        "\n",
        "            pred = output.argmax(dim=1, keepdim=True)\n",
        "            correct += pred.eq(target.view_as(pred)).sum().item()\n",
        "            total += target.size(0)\n",
        "\n",
        "    avg_test_loss = test_loss / total\n",
        "    accuracy = correct / total\n",
        "    test_losses.append(avg_test_loss)\n",
        "    test_accuracy.append(accuracy)\n",
        "\n",
        "    print(f\"Epoch {epoch}: Test Loss = {avg_test_loss:.4f}, Test Accuracy = {accuracy:.4f}\")\n"
      ],
      "metadata": {
        "id": "RNrJypFFdEWU",
        "colab": {
          "base_uri": "https://localhost:8080/"
        },
        "outputId": "29f4e4ce-1270-4b6d-f496-a5b79be37525"
      },
      "execution_count": 33,
      "outputs": [
        {
          "output_type": "stream",
          "name": "stdout",
          "text": [
            "Epoch 1: Test Loss = 0.5652, Test Accuracy = 0.8157\n",
            "Epoch 2: Test Loss = 0.3946, Test Accuracy = 0.8699\n"
          ]
        }
      ]
    },
    {
      "cell_type": "markdown",
      "source": [
        "Now, let's move the model to the GPU and try training for 2 epochs there.\n",
        "\n",
        "**Question 8**"
      ],
      "metadata": {
        "id": "KzTD8AHOdIlb"
      }
    },
    {
      "cell_type": "code",
      "source": [
        "# create the model\n",
        "model = CNN()\n",
        "\n",
        "model.cuda()\n",
        "\n",
        "# print the model and the parameter count\n",
        "print(model)\n",
        "param_count = sum([p.numel() for p in model.parameters()])\n",
        "print(f\"Model has {param_count:,} trainable parameters\")\n",
        "\n",
        "# the loss function\n",
        "criterion = nn.CrossEntropyLoss()\n",
        "\n",
        "# then we can intantiate the optimizer. We will use Stochastic Gradient Descent (SGD), and can set the learning rate to 0.1 with a momentum factor of 0.5\n",
        "# the first input to the optimizer is the list of model parameters, which is obtained by calling .parameters() on the model object\n",
        "optimizer = optim.SGD(model.parameters(), lr=0.01, momentum=0.5)"
      ],
      "metadata": {
        "id": "DUZs-CRbdTys",
        "colab": {
          "base_uri": "https://localhost:8080/"
        },
        "outputId": "5e78c52b-ed1a-4772-f87a-66e40b041b6e"
      },
      "execution_count": 39,
      "outputs": [
        {
          "output_type": "stream",
          "name": "stdout",
          "text": [
            "CNN(\n",
            "  (net): Sequential(\n",
            "    (0): Conv2d(1, 32, kernel_size=(3, 3), stride=(1, 1), padding=(1, 1))\n",
            "    (1): ReLU()\n",
            "    (2): Conv2d(32, 64, kernel_size=(3, 3), stride=(2, 2), padding=(1, 1))\n",
            "    (3): ReLU()\n",
            "    (4): Conv2d(64, 128, kernel_size=(3, 3), stride=(2, 2), padding=(1, 1))\n",
            "    (5): ReLU()\n",
            "    (6): AdaptiveMaxPool2d(output_size=1)\n",
            "  )\n",
            "  (head): Sequential(\n",
            "    (0): Linear(in_features=128, out_features=64, bias=True)\n",
            "    (1): ReLU()\n",
            "    (2): Linear(in_features=64, out_features=10, bias=True)\n",
            "  )\n",
            ")\n",
            "Model has 101,578 trainable parameters\n"
          ]
        }
      ]
    },
    {
      "cell_type": "code",
      "source": [
        "# create a new array to log the loss and accuracy\n",
        "train_losses = []\n",
        "train_steps = []\n",
        "test_steps = []\n",
        "test_losses = []\n",
        "test_accuracy = []\n",
        "current_step = 0  # Start with global step 0\n",
        "current_epoch = 0 # Start with epoch 0"
      ],
      "metadata": {
        "id": "_OBIhnMbdZX0"
      },
      "execution_count": 40,
      "outputs": []
    },
    {
      "cell_type": "code",
      "source": [
        "num_epochs = 2\n",
        "current_step = 0\n",
        "\n",
        "for epoch in range(1, num_epochs + 1):\n",
        "    model.train()\n",
        "    for data, target in train_loader:\n",
        "        # Move data and target to GPU\n",
        "        data, target = data.cuda(), target.cuda()\n",
        "\n",
        "        optimizer.zero_grad()\n",
        "        output = model(data)\n",
        "        loss = criterion(output, target)\n",
        "        loss.backward()\n",
        "        optimizer.step()\n",
        "\n",
        "        # Log training loss\n",
        "        train_losses.append(loss.item())\n",
        "        train_steps.append(current_step)\n",
        "        current_step += 1\n",
        "\n",
        "    # Evaluate on test set\n",
        "    model.eval()\n",
        "    test_loss = 0\n",
        "    correct = 0\n",
        "    total = 0\n",
        "    with torch.no_grad():\n",
        "        for data, target in test_loader:\n",
        "            data, target = data.cuda(), target.cuda()\n",
        "            output = model(data)\n",
        "            loss = criterion(output, target)\n",
        "            test_loss += loss.item() * data.size(0)\n",
        "\n",
        "            pred = output.argmax(dim=1, keepdim=True)\n",
        "            correct += pred.eq(target.view_as(pred)).sum().item()\n",
        "            total += target.size(0)\n",
        "\n",
        "    avg_test_loss = test_loss / total\n",
        "    accuracy = correct / total\n",
        "    test_losses.append(avg_test_loss)\n",
        "    test_accuracy.append(accuracy)\n",
        "    test_steps.append(current_step)\n",
        "\n",
        "    print(f\"Epoch {epoch}: Test Loss = {avg_test_loss:.4f}, Test Accuracy = {accuracy:.4f}\")\n"
      ],
      "metadata": {
        "id": "Vz69D4h_dahU",
        "colab": {
          "base_uri": "https://localhost:8080/"
        },
        "outputId": "b49a6988-1589-446b-b597-396aac4eb349"
      },
      "execution_count": 41,
      "outputs": [
        {
          "output_type": "stream",
          "name": "stdout",
          "text": [
            "Epoch 1: Test Loss = 0.5425, Test Accuracy = 0.8174\n",
            "Epoch 2: Test Loss = 0.2850, Test Accuracy = 0.9069\n"
          ]
        }
      ]
    },
    {
      "cell_type": "markdown",
      "source": [
        "How do the CPU and GPU versions compare for the CNN? Is one faster than the other? Why do you think this is, and how does it differ from the MLP?\n",
        "\n",
        "**Question 9**"
      ],
      "metadata": {
        "id": "Nd3Lv1AKddG7"
      }
    },
    {
      "cell_type": "markdown",
      "source": [
        "GPU training is faster for CNNs than CPUs due to the heavy use of convolutions and parallel computation.\n",
        "\n",
        "For small MLPs, the GPU advantage is less obvious because the CPU can already handle the workload efficiently.\n",
        "\n",
        "Accuracy can also improve slightly faster on GPU due to faster batch updates, especially with larger batch sizes."
      ],
      "metadata": {
        "id": "GsZLGgvYdo2L"
      }
    },
    {
      "cell_type": "markdown",
      "source": [
        "As a final comparison, we can profile the FLOPs (floating-point operations) executed by each model. We will use the thop.profile function for this and consider an MNIST batch size of 1."
      ],
      "metadata": {
        "id": "YPM7A8rNdqr7"
      }
    },
    {
      "cell_type": "code",
      "source": [
        "# the input shape of a MNIST sample with batch_size = 1\n",
        "input = torch.randn(1, 1, 28, 28)\n",
        "\n",
        "# create a copy of the models on the CPU\n",
        "mlp_model = MLP()\n",
        "cnn_model = CNN()\n",
        "\n",
        "# profile the MLP\n",
        "flops, params = thop.profile(mlp_model, inputs=(input, ), verbose=False)\n",
        "print(f\"MLP has {params:,} params and uses {flops:,} FLOPs\")\n",
        "\n",
        "# profile the CNN\n",
        "flops, params = thop.profile(cnn_model, inputs=(input, ), verbose=False)\n",
        "print(f\"CNN has {params:,} params and uses {flops:,} FLOPs\")"
      ],
      "metadata": {
        "id": "H2PiALplYywV",
        "colab": {
          "base_uri": "https://localhost:8080/"
        },
        "outputId": "2815e10f-b057-4682-a2ca-63ecd95e273d"
      },
      "execution_count": 42,
      "outputs": [
        {
          "output_type": "stream",
          "name": "stdout",
          "text": [
            "MLP has 109,386.0 params and uses 109,184.0 FLOPs\n",
            "CNN has 101,578.0 params and uses 7,459,968.0 FLOPs\n"
          ]
        }
      ]
    },
    {
      "cell_type": "markdown",
      "source": [
        "Are these results what you would have expected? Do they explain the performance difference between running on the CPU and GPU? Why or why not?\n",
        "\n",
        "**Question 10**"
      ],
      "metadata": {
        "id": "lrnbL1fIe0Eg"
      }
    },
    {
      "cell_type": "markdown",
      "source": [
        "ummary\n",
        "\n",
        "The FLOPs data explains why:\n",
        "\n",
        "CNN training is much faster on GPU than CPU.\n",
        "\n",
        "MLP training sees only modest speedup on GPU.\n",
        "\n",
        "Performance differences are mostly about how parallelizable the operations are and the total number of FLOPs."
      ],
      "metadata": {
        "id": "uWnlxMVjfDUe"
      }
    }
  ]
}